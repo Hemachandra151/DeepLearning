{
  "nbformat": 4,
  "nbformat_minor": 0,
  "metadata": {
    "colab": {
      "provenance": []
    },
    "kernelspec": {
      "name": "python3",
      "display_name": "Python 3"
    },
    "language_info": {
      "name": "python"
    }
  },
  "cells": [
    {
      "cell_type": "markdown",
      "source": [
        "#TensorFlow"
      ],
      "metadata": {
        "id": "q3VW9plGkplN"
      }
    },
    {
      "cell_type": "markdown",
      "source": [
        "In TensorFlow computation is represented as a data flow graph where a node is an operation like addition and edge is a tensor.\n",
        "Tensor is a Multidimensional Array\n"
      ],
      "metadata": {
        "id": "IUidKxT4k9_v"
      }
    },
    {
      "cell_type": "code",
      "source": [
        "import tensorflow as tf"
      ],
      "metadata": {
        "id": "yzWzUGRqrbeT"
      },
      "execution_count": null,
      "outputs": []
    },
    {
      "cell_type": "markdown",
      "source": [
        "#Initialization Of Tensors"
      ],
      "metadata": {
        "id": "R-x3tay8sp4n"
      }
    },
    {
      "cell_type": "code",
      "source": [
        "x = tf.constant(7)\n",
        "print(x)"
      ],
      "metadata": {
        "colab": {
          "base_uri": "https://localhost:8080/"
        },
        "id": "rnUX_pQfstbk",
        "outputId": "e8c03e7d-ff2a-4528-cc1f-59b90db5c562"
      },
      "execution_count": null,
      "outputs": [
        {
          "output_type": "stream",
          "name": "stdout",
          "text": [
            "tf.Tensor(7, shape=(), dtype=int32)\n"
          ]
        }
      ]
    },
    {
      "cell_type": "code",
      "source": [
        "x = tf.constant(34, shape=(1,1))\n",
        "print(x)"
      ],
      "metadata": {
        "colab": {
          "base_uri": "https://localhost:8080/"
        },
        "id": "oLuntS9CxNKM",
        "outputId": "3823ff4a-4f79-4f2f-c677-19760c41b3f0"
      },
      "execution_count": null,
      "outputs": [
        {
          "output_type": "stream",
          "name": "stdout",
          "text": [
            "tf.Tensor([[34]], shape=(1, 1), dtype=int32)\n"
          ]
        }
      ]
    },
    {
      "cell_type": "code",
      "source": [
        "x = tf.constant(5, shape=(1,1), dtype=tf.float32)\n",
        "print(x)"
      ],
      "metadata": {
        "colab": {
          "base_uri": "https://localhost:8080/"
        },
        "id": "cuCBZwZBxPk4",
        "outputId": "df21634b-0fa0-47fe-f4b1-c5046772d560"
      },
      "execution_count": null,
      "outputs": [
        {
          "output_type": "stream",
          "name": "stdout",
          "text": [
            "tf.Tensor([[5.]], shape=(1, 1), dtype=float32)\n"
          ]
        }
      ]
    },
    {
      "cell_type": "code",
      "source": [
        "x = tf.constant([[2,6],[7,1]])\n",
        "print(x)"
      ],
      "metadata": {
        "colab": {
          "base_uri": "https://localhost:8080/"
        },
        "id": "P0tkxO7yxPuV",
        "outputId": "b17543e0-1b3f-4524-e42d-70b98b377561"
      },
      "execution_count": null,
      "outputs": [
        {
          "output_type": "stream",
          "name": "stdout",
          "text": [
            "tf.Tensor(\n",
            "[[2 6]\n",
            " [7 1]], shape=(2, 2), dtype=int32)\n"
          ]
        }
      ]
    },
    {
      "cell_type": "code",
      "source": [
        "x = tf.ones((2,2))\n",
        "print(x)"
      ],
      "metadata": {
        "colab": {
          "base_uri": "https://localhost:8080/"
        },
        "id": "VKYi0kgSxP1S",
        "outputId": "6f0fb984-df2c-4409-a982-67b8855b5165"
      },
      "execution_count": null,
      "outputs": [
        {
          "output_type": "stream",
          "name": "stdout",
          "text": [
            "tf.Tensor(\n",
            "[[1. 1.]\n",
            " [1. 1.]], shape=(2, 2), dtype=float32)\n"
          ]
        }
      ]
    },
    {
      "cell_type": "code",
      "source": [
        "x = tf.zeros((3,1))\n",
        "print(x)"
      ],
      "metadata": {
        "colab": {
          "base_uri": "https://localhost:8080/"
        },
        "id": "txFaGhY0xP37",
        "outputId": "c0d785a5-3374-4750-fb39-c5aae0dad891"
      },
      "execution_count": null,
      "outputs": [
        {
          "output_type": "stream",
          "name": "stdout",
          "text": [
            "tf.Tensor(\n",
            "[[0.]\n",
            " [0.]\n",
            " [0.]], shape=(3, 1), dtype=float32)\n"
          ]
        }
      ]
    },
    {
      "cell_type": "code",
      "source": [
        "x = tf.eye(2)\n",
        "print(x)"
      ],
      "metadata": {
        "colab": {
          "base_uri": "https://localhost:8080/"
        },
        "id": "fhiwN0ksxP6P",
        "outputId": "34fb907e-3553-415d-f08f-d04dcfb0e2e2"
      },
      "execution_count": null,
      "outputs": [
        {
          "output_type": "stream",
          "name": "stdout",
          "text": [
            "tf.Tensor(\n",
            "[[1. 0.]\n",
            " [0. 1.]], shape=(2, 2), dtype=float32)\n"
          ]
        }
      ]
    },
    {
      "cell_type": "code",
      "source": [
        "x = tf.random.normal((4,4), mean=0, stddev=1)#Values from normal distribution\n",
        "print(x)"
      ],
      "metadata": {
        "colab": {
          "base_uri": "https://localhost:8080/"
        },
        "id": "ZvV3v3-oxP8t",
        "outputId": "cacf8ae2-94d6-42b2-a3ad-b77596b49c1e"
      },
      "execution_count": null,
      "outputs": [
        {
          "output_type": "stream",
          "name": "stdout",
          "text": [
            "tf.Tensor(\n",
            "[[-0.45270252 -2.034286    0.01172357  0.29522705]\n",
            " [ 1.4993254   0.41535816  0.69211304  0.785851  ]\n",
            " [ 0.47429836  1.8078505  -1.1244843   0.5481494 ]\n",
            " [ 0.68416256 -0.46542862 -0.4661939  -1.3952692 ]], shape=(4, 4), dtype=float32)\n"
          ]
        }
      ]
    },
    {
      "cell_type": "code",
      "source": [
        "x = tf.random.uniform((1,6), minval=-1, maxval=1)#Values from uniform distribution\n",
        "print(x)"
      ],
      "metadata": {
        "colab": {
          "base_uri": "https://localhost:8080/"
        },
        "id": "mOgqNUOXxP_N",
        "outputId": "76a24c95-c8f6-47c6-87f9-f030a250c0c0"
      },
      "execution_count": null,
      "outputs": [
        {
          "output_type": "stream",
          "name": "stdout",
          "text": [
            "tf.Tensor([[ 0.10981631 -0.92959833  0.3190484   0.50576544 -0.50817966  0.77702665]], shape=(1, 6), dtype=float32)\n"
          ]
        }
      ]
    },
    {
      "cell_type": "code",
      "source": [
        "x = tf.range(5)\n",
        "print(x)"
      ],
      "metadata": {
        "colab": {
          "base_uri": "https://localhost:8080/"
        },
        "id": "NpF1xFm-xQBZ",
        "outputId": "0301f667-2afb-4868-f229-3778d02a21d5"
      },
      "execution_count": null,
      "outputs": [
        {
          "output_type": "stream",
          "name": "stdout",
          "text": [
            "tf.Tensor([0 1 2 3 4], shape=(5,), dtype=int32)\n"
          ]
        }
      ]
    },
    {
      "cell_type": "code",
      "source": [
        "x = tf.range(1,20,4)\n",
        "print(x)"
      ],
      "metadata": {
        "colab": {
          "base_uri": "https://localhost:8080/"
        },
        "id": "sm4fMXhUxQEB",
        "outputId": "0b743c0b-d1f7-4ae6-994e-6775446cfaf5"
      },
      "execution_count": null,
      "outputs": [
        {
          "output_type": "stream",
          "name": "stdout",
          "text": [
            "tf.Tensor([ 1  5  9 13 17], shape=(5,), dtype=int32)\n"
          ]
        }
      ]
    },
    {
      "cell_type": "code",
      "source": [
        "x = tf.cast(x, dtype=tf.float32)\n",
        "print(x)"
      ],
      "metadata": {
        "colab": {
          "base_uri": "https://localhost:8080/"
        },
        "id": "X4MQrOYoxQGh",
        "outputId": "64536c62-2dc2-477a-928b-b8f3b7d13b6d"
      },
      "execution_count": null,
      "outputs": [
        {
          "output_type": "stream",
          "name": "stdout",
          "text": [
            "tf.Tensor([ 1.  5.  9. 13. 17.], shape=(5,), dtype=float32)\n"
          ]
        }
      ]
    },
    {
      "cell_type": "markdown",
      "source": [
        "#Mathematical Operations"
      ],
      "metadata": {
        "id": "JJnwz0eOx1hg"
      }
    },
    {
      "cell_type": "code",
      "source": [
        "x = tf.constant([6,4,1,9])\n",
        "y = tf.constant([4,3,7,5])\n",
        "\n",
        "z = tf.add(x,y)\n",
        "a = x + y\n",
        "print(z)\n",
        "print(a)"
      ],
      "metadata": {
        "colab": {
          "base_uri": "https://localhost:8080/"
        },
        "id": "IiWTw4J-xQJI",
        "outputId": "66f3724e-8aca-46d8-995b-5ebd955977fa"
      },
      "execution_count": null,
      "outputs": [
        {
          "output_type": "stream",
          "name": "stdout",
          "text": [
            "tf.Tensor([10  7  8 14], shape=(4,), dtype=int32)\n",
            "tf.Tensor([10  7  8 14], shape=(4,), dtype=int32)\n"
          ]
        }
      ]
    },
    {
      "cell_type": "code",
      "source": [
        "z = tf.subtract(x,y)\n",
        "a = x - y\n",
        "print(z)\n",
        "print(a)"
      ],
      "metadata": {
        "colab": {
          "base_uri": "https://localhost:8080/"
        },
        "id": "b6fB1yubxQLg",
        "outputId": "0c5a450c-9821-41e0-823a-79302253405c"
      },
      "execution_count": null,
      "outputs": [
        {
          "output_type": "stream",
          "name": "stdout",
          "text": [
            "tf.Tensor([ 2  1 -6  4], shape=(4,), dtype=int32)\n",
            "tf.Tensor([ 2  1 -6  4], shape=(4,), dtype=int32)\n"
          ]
        }
      ]
    },
    {
      "cell_type": "code",
      "source": [
        "z = tf.multiply(x,y)\n",
        "a = x * y\n",
        "print(z)\n",
        "print(a)"
      ],
      "metadata": {
        "colab": {
          "base_uri": "https://localhost:8080/"
        },
        "id": "iI61aAZZxQOK",
        "outputId": "42a546a1-116e-4b8f-e1be-7206f0fa7579"
      },
      "execution_count": null,
      "outputs": [
        {
          "output_type": "stream",
          "name": "stdout",
          "text": [
            "tf.Tensor([24 12  7 45], shape=(4,), dtype=int32)\n",
            "tf.Tensor([24 12  7 45], shape=(4,), dtype=int32)\n"
          ]
        }
      ]
    },
    {
      "cell_type": "code",
      "source": [
        "z = tf.divide(x,y)\n",
        "a = x/y\n",
        "print(z)\n",
        "print(a)"
      ],
      "metadata": {
        "colab": {
          "base_uri": "https://localhost:8080/"
        },
        "id": "VmI7yeXvxQQq",
        "outputId": "6830a5db-d2ba-409e-ac2c-a979ba1d07a2"
      },
      "execution_count": null,
      "outputs": [
        {
          "output_type": "stream",
          "name": "stdout",
          "text": [
            "tf.Tensor([1.5        1.33333333 0.14285714 1.8       ], shape=(4,), dtype=float64)\n",
            "tf.Tensor([1.5        1.33333333 0.14285714 1.8       ], shape=(4,), dtype=float64)\n"
          ]
        }
      ]
    },
    {
      "cell_type": "code",
      "source": [
        "#Dot Product\n",
        "z = tf.tensordot(x,y,axes=1)\n",
        "a = tf.reduce_sum(x*y, axis=0)\n",
        "print(z)\n",
        "print(a)"
      ],
      "metadata": {
        "colab": {
          "base_uri": "https://localhost:8080/"
        },
        "id": "FW7oOjHsxQTI",
        "outputId": "acc0c66c-96b4-4d93-cbc7-9917bde4ae43"
      },
      "execution_count": null,
      "outputs": [
        {
          "output_type": "stream",
          "name": "stdout",
          "text": [
            "tf.Tensor(88, shape=(), dtype=int32)\n",
            "tf.Tensor(88, shape=(), dtype=int32)\n"
          ]
        }
      ]
    },
    {
      "cell_type": "code",
      "source": [
        "#Raise each element to the power 3\n",
        "a = x**3\n",
        "print(a)"
      ],
      "metadata": {
        "colab": {
          "base_uri": "https://localhost:8080/"
        },
        "id": "DqkU6B1YxQV8",
        "outputId": "9fb620ac-049a-400c-fca6-cf0bccf48f20"
      },
      "execution_count": null,
      "outputs": [
        {
          "output_type": "stream",
          "name": "stdout",
          "text": [
            "tf.Tensor([216  64   1 729], shape=(4,), dtype=int32)\n"
          ]
        }
      ]
    },
    {
      "cell_type": "code",
      "source": [
        "x = tf.constant([[2,5],[3,4],[7,1]])\n",
        "y = tf.constant([[5,2,6,7],[4,1,6,2]])\n",
        "z = tf.matmul(x,y)\n",
        "a = x @ y\n",
        "print(z)\n",
        "print(a)"
      ],
      "metadata": {
        "colab": {
          "base_uri": "https://localhost:8080/"
        },
        "id": "4esietSzxQYl",
        "outputId": "6cdd0a8b-e7de-4dd8-c3aa-1bc65f84bd5c"
      },
      "execution_count": null,
      "outputs": [
        {
          "output_type": "stream",
          "name": "stdout",
          "text": [
            "tf.Tensor(\n",
            "[[30  9 42 24]\n",
            " [31 10 42 29]\n",
            " [39 15 48 51]], shape=(3, 4), dtype=int32)\n",
            "tf.Tensor(\n",
            "[[30  9 42 24]\n",
            " [31 10 42 29]\n",
            " [39 15 48 51]], shape=(3, 4), dtype=int32)\n"
          ]
        }
      ]
    },
    {
      "cell_type": "code",
      "source": [
        "x = tf.constant([[3,2,5],[4,5,1],[5,6,2]])\n",
        "y = tf.constant([1,3,4], shape=(3,1))\n",
        "z = tf.matmul(x,y)\n",
        "print(z)\n",
        "a = x @ y\n",
        "print(a)"
      ],
      "metadata": {
        "colab": {
          "base_uri": "https://localhost:8080/"
        },
        "id": "DLl60BPPxQbO",
        "outputId": "9d2201f5-6e6c-4164-8424-4979a50ca357"
      },
      "execution_count": null,
      "outputs": [
        {
          "output_type": "stream",
          "name": "stdout",
          "text": [
            "tf.Tensor(\n",
            "[[29]\n",
            " [23]\n",
            " [31]], shape=(3, 1), dtype=int32)\n",
            "tf.Tensor(\n",
            "[[29]\n",
            " [23]\n",
            " [31]], shape=(3, 1), dtype=int32)\n"
          ]
        }
      ]
    },
    {
      "cell_type": "markdown",
      "source": [
        "#Indexing"
      ],
      "metadata": {
        "id": "MOtIM8rM2LkV"
      }
    },
    {
      "cell_type": "code",
      "source": [
        "x = tf.constant([0,4,65,3,5,2,6,4,5,1,8,9,4,6,7,2,3,7,1])\n",
        "print(x[:])"
      ],
      "metadata": {
        "colab": {
          "base_uri": "https://localhost:8080/"
        },
        "id": "9KD-CqYWxQdt",
        "outputId": "1eb949b3-b525-427e-c67b-c28674522a25"
      },
      "execution_count": null,
      "outputs": [
        {
          "output_type": "stream",
          "name": "stdout",
          "text": [
            "tf.Tensor([ 0  4 65  3  5  2  6  4  5  1  8  9  4  6  7  2  3  7  1], shape=(19,), dtype=int32)\n"
          ]
        }
      ]
    },
    {
      "cell_type": "code",
      "source": [
        "print(x[3:])"
      ],
      "metadata": {
        "colab": {
          "base_uri": "https://localhost:8080/"
        },
        "id": "AezNsi9UxQgT",
        "outputId": "3c118433-7ad4-48cd-b919-0e7f8a00bfe1"
      },
      "execution_count": null,
      "outputs": [
        {
          "output_type": "stream",
          "name": "stdout",
          "text": [
            "tf.Tensor([3 5 2 6 4 5 1 8 9 4 6 7 2 3 7 1], shape=(16,), dtype=int32)\n"
          ]
        }
      ]
    },
    {
      "cell_type": "code",
      "source": [
        "print(x[1:5])"
      ],
      "metadata": {
        "colab": {
          "base_uri": "https://localhost:8080/"
        },
        "id": "suJz0RvFxQi6",
        "outputId": "e2432155-2690-461d-e0a8-724c2e7710a1"
      },
      "execution_count": null,
      "outputs": [
        {
          "output_type": "stream",
          "name": "stdout",
          "text": [
            "tf.Tensor([ 4 65  3  5], shape=(4,), dtype=int32)\n"
          ]
        }
      ]
    },
    {
      "cell_type": "code",
      "source": [
        "print(x[::2])"
      ],
      "metadata": {
        "colab": {
          "base_uri": "https://localhost:8080/"
        },
        "id": "DyDfPn3OxQlU",
        "outputId": "ca7ee283-6096-4a14-d01e-2040951b8462"
      },
      "execution_count": null,
      "outputs": [
        {
          "output_type": "stream",
          "name": "stdout",
          "text": [
            "tf.Tensor([ 0 65  5  6  5  8  4  7  3  1], shape=(10,), dtype=int32)\n"
          ]
        }
      ]
    },
    {
      "cell_type": "code",
      "source": [
        "print(x[::-1])"
      ],
      "metadata": {
        "colab": {
          "base_uri": "https://localhost:8080/"
        },
        "id": "N8QVHYPtxQn4",
        "outputId": "2fc6103d-81a3-4e4c-81bc-e2354b77e8c5"
      },
      "execution_count": null,
      "outputs": [
        {
          "output_type": "stream",
          "name": "stdout",
          "text": [
            "tf.Tensor([ 1  7  3  2  7  6  4  9  8  1  5  4  6  2  5  3 65  4  0], shape=(19,), dtype=int32)\n"
          ]
        }
      ]
    },
    {
      "cell_type": "code",
      "source": [
        "ind = tf.constant([0,2,4,8])\n",
        "z = tf.gather(x, ind)\n",
        "print(z)"
      ],
      "metadata": {
        "colab": {
          "base_uri": "https://localhost:8080/"
        },
        "id": "RVxf-7q2xQqU",
        "outputId": "a9243ae2-9222-47be-9026-0535426b7aea"
      },
      "execution_count": null,
      "outputs": [
        {
          "output_type": "stream",
          "name": "stdout",
          "text": [
            "tf.Tensor([ 0 65  5  5], shape=(4,), dtype=int32)\n"
          ]
        }
      ]
    },
    {
      "cell_type": "code",
      "source": [
        "x = tf.constant([[4,5,1],[3,1,7],[9,3,2]])\n",
        "print(x[0])"
      ],
      "metadata": {
        "colab": {
          "base_uri": "https://localhost:8080/"
        },
        "id": "4mL06EhixQsY",
        "outputId": "a4600afc-8269-47e5-e52c-d9e76db1cd79"
      },
      "execution_count": null,
      "outputs": [
        {
          "output_type": "stream",
          "name": "stdout",
          "text": [
            "tf.Tensor([4 5 1], shape=(3,), dtype=int32)\n"
          ]
        }
      ]
    },
    {
      "cell_type": "code",
      "source": [
        "print(x[2])"
      ],
      "metadata": {
        "colab": {
          "base_uri": "https://localhost:8080/"
        },
        "id": "HC7gPTSXxQv5",
        "outputId": "8cdb424c-2d52-4565-ff6e-182a1b6b027f"
      },
      "execution_count": null,
      "outputs": [
        {
          "output_type": "stream",
          "name": "stdout",
          "text": [
            "tf.Tensor([9 3 2], shape=(3,), dtype=int32)\n"
          ]
        }
      ]
    },
    {
      "cell_type": "code",
      "source": [
        "#This notation is used when indexing a multidimensional tensor where the ',' seperates the dimensions\n",
        "print(x[0,:])"
      ],
      "metadata": {
        "colab": {
          "base_uri": "https://localhost:8080/"
        },
        "id": "V2kg40ih4MTQ",
        "outputId": "f22e6df1-1547-4c8a-f852-db1985a6385d"
      },
      "execution_count": null,
      "outputs": [
        {
          "output_type": "stream",
          "name": "stdout",
          "text": [
            "tf.Tensor([4 5 1], shape=(3,), dtype=int32)\n"
          ]
        }
      ]
    },
    {
      "cell_type": "code",
      "source": [
        "print(x[0:2,:])"
      ],
      "metadata": {
        "colab": {
          "base_uri": "https://localhost:8080/"
        },
        "id": "ax9lUNuD4e-T",
        "outputId": "8ed4ed7b-ff76-4fca-b9bf-c68a1964f161"
      },
      "execution_count": null,
      "outputs": [
        {
          "output_type": "stream",
          "name": "stdout",
          "text": [
            "tf.Tensor(\n",
            "[[4 5 1]\n",
            " [3 1 7]], shape=(2, 3), dtype=int32)\n"
          ]
        }
      ]
    },
    {
      "cell_type": "markdown",
      "source": [
        "#Reshaping"
      ],
      "metadata": {
        "id": "s-bMD2gv4uoE"
      }
    },
    {
      "cell_type": "code",
      "source": [
        "x = tf.range(1,10)\n",
        "x = tf.reshape(x, (3,3))\n",
        "print(x)"
      ],
      "metadata": {
        "colab": {
          "base_uri": "https://localhost:8080/"
        },
        "id": "rxE_7I7b4xOc",
        "outputId": "d0d788e4-03c3-4112-81e1-66d985398764"
      },
      "execution_count": null,
      "outputs": [
        {
          "output_type": "stream",
          "name": "stdout",
          "text": [
            "tf.Tensor(\n",
            "[[1 2 3]\n",
            " [4 5 6]\n",
            " [7 8 9]], shape=(3, 3), dtype=int32)\n"
          ]
        }
      ]
    },
    {
      "cell_type": "code",
      "source": [
        "z = tf.transpose(x)\n",
        "a = tf.transpose(x, perm=[1,0])\n",
        "print(z)\n",
        "print()\n",
        "print(a)"
      ],
      "metadata": {
        "colab": {
          "base_uri": "https://localhost:8080/"
        },
        "id": "0TNolSHH5Pf_",
        "outputId": "7df5f7f0-63b3-4b41-edb0-14a2c5b13e17"
      },
      "execution_count": null,
      "outputs": [
        {
          "output_type": "stream",
          "name": "stdout",
          "text": [
            "tf.Tensor(\n",
            "[[1 4 7]\n",
            " [2 5 8]\n",
            " [3 6 9]], shape=(3, 3), dtype=int32)\n",
            "\n",
            "tf.Tensor(\n",
            "[[1 4 7]\n",
            " [2 5 8]\n",
            " [3 6 9]], shape=(3, 3), dtype=int32)\n"
          ]
        }
      ]
    },
    {
      "cell_type": "markdown",
      "source": [
        "#Neural Network"
      ],
      "metadata": {
        "id": "X-J-DaM5us6k"
      }
    },
    {
      "cell_type": "code",
      "source": [
        "from tensorflow import keras\n",
        "from tensorflow.keras import layers\n",
        "from tensorflow.keras.datasets import mnist\n",
        "\n",
        "(x_train, y_train), (x_test, y_test) = mnist.load_data()\n",
        "print(x_train.shape)\n",
        "print(y_train.shape)"
      ],
      "metadata": {
        "colab": {
          "base_uri": "https://localhost:8080/"
        },
        "id": "fHJGK-8auxna",
        "outputId": "3a9ca22f-0cbd-4ca2-ea03-f591b48b4726"
      },
      "execution_count": null,
      "outputs": [
        {
          "output_type": "stream",
          "name": "stdout",
          "text": [
            "Downloading data from https://storage.googleapis.com/tensorflow/tf-keras-datasets/mnist.npz\n",
            "11490434/11490434 [==============================] - 0s 0us/step\n",
            "(60000, 28, 28)\n",
            "(60000,)\n"
          ]
        }
      ]
    },
    {
      "cell_type": "code",
      "source": [
        "x_train = x_train.reshape(-1, 28*28).astype(\"float32\") / 255.0\n",
        "x_test = x_test.reshape(-1, 28*28).astype(\"float32\") / 255.0\n",
        "#Converting the data type from float64 to float 32 to reduce complex computations\n",
        "#Normalizing the data by dividing by 255, which makes the range of values [0,1]\n",
        "print(x_test.shape)"
      ],
      "metadata": {
        "colab": {
          "base_uri": "https://localhost:8080/"
        },
        "id": "P9aKS7Sywg_g",
        "outputId": "b0995ca8-f88c-4cd3-a04f-35f3afb63e85"
      },
      "execution_count": null,
      "outputs": [
        {
          "output_type": "stream",
          "name": "stdout",
          "text": [
            "(10000, 784)\n"
          ]
        }
      ]
    },
    {
      "cell_type": "code",
      "source": [
        "#Defining The Model\n",
        "# Sequential Api (one input, one output). Very convinient but not flexible\n",
        "model = keras.Sequential(\n",
        "    [\n",
        "        keras.Input(shape=(28*28)), #only required to print the model summary before training\n",
        "        layers.Dense(512, activation='relu'),\n",
        "        layers.Dense(256, activation='relu'),\n",
        "        layers.Dense(10),\n",
        "    ]\n",
        ")\n",
        "\n",
        "print(model.summary())\n",
        "\n",
        "model.compile(\n",
        "    loss=keras.losses.SparseCategoricalCrossentropy(from_logits=True),\n",
        "    optimizer=keras.optimizers.Adam(lr=0.001),\n",
        "    metrics=[\"accuracy\"],\n",
        ")\n",
        "\n",
        "model.fit(x_train,y_train,batch_size=32, epochs=5, verbose=2)\n",
        "model.evaluate(x_test,y_test,batch_size=32,verbose=2)"
      ],
      "metadata": {
        "colab": {
          "base_uri": "https://localhost:8080/"
        },
        "id": "xbVIhvpsxjnV",
        "outputId": "2c024a90-9275-46f2-d7e6-344ac1a910f4"
      },
      "execution_count": null,
      "outputs": [
        {
          "output_type": "stream",
          "name": "stdout",
          "text": [
            "Model: \"sequential\"\n",
            "_________________________________________________________________\n",
            " Layer (type)                Output Shape              Param #   \n",
            "=================================================================\n",
            " dense (Dense)               (None, 512)               401920    \n",
            "                                                                 \n",
            " dense_1 (Dense)             (None, 256)               131328    \n",
            "                                                                 \n",
            " dense_2 (Dense)             (None, 10)                2570      \n",
            "                                                                 \n",
            "=================================================================\n",
            "Total params: 535818 (2.04 MB)\n",
            "Trainable params: 535818 (2.04 MB)\n",
            "Non-trainable params: 0 (0.00 Byte)\n",
            "_________________________________________________________________\n"
          ]
        },
        {
          "output_type": "stream",
          "name": "stderr",
          "text": [
            "WARNING:absl:`lr` is deprecated in Keras optimizer, please use `learning_rate` or use the legacy optimizer, e.g.,tf.keras.optimizers.legacy.Adam.\n"
          ]
        },
        {
          "output_type": "stream",
          "name": "stdout",
          "text": [
            "None\n",
            "Epoch 1/5\n",
            "1875/1875 - 13s - loss: 0.5761 - accuracy: 0.8263 - 13s/epoch - 7ms/step\n",
            "Epoch 2/5\n",
            "1875/1875 - 14s - loss: 0.2909 - accuracy: 0.9139 - 14s/epoch - 8ms/step\n",
            "Epoch 3/5\n",
            "1875/1875 - 13s - loss: 0.2219 - accuracy: 0.9347 - 13s/epoch - 7ms/step\n",
            "Epoch 4/5\n",
            "1875/1875 - 13s - loss: 0.1760 - accuracy: 0.9477 - 13s/epoch - 7ms/step\n",
            "Epoch 5/5\n",
            "1875/1875 - 13s - loss: 0.1424 - accuracy: 0.9575 - 13s/epoch - 7ms/step\n",
            "313/313 - 1s - loss: 0.1361 - accuracy: 0.9578 - 818ms/epoch - 3ms/step\n"
          ]
        },
        {
          "output_type": "execute_result",
          "data": {
            "text/plain": [
              "[0.13613976538181305, 0.9577999711036682]"
            ]
          },
          "metadata": {},
          "execution_count": 39
        }
      ]
    },
    {
      "cell_type": "code",
      "source": [
        "#Another way of defining the layers\n",
        "model = keras.Sequential()\n",
        "model.add(layers.Input(shape=(28*28)))\n",
        "model.add(layers.Dense(512, activation='relu'))\n",
        "model.add(layers.Dense(256, activation='relu'))\n",
        "print(model.summary())\n",
        "model.add(layers.Dense(128, activation='relu'))\n",
        "model.add(layers.Dense(64, activation='relu'))\n",
        "model.add(layers.Dense(10))\n",
        "print(model.summary())\n",
        "\n",
        "model.compile(\n",
        "    loss=keras.losses.SparseCategoricalCrossentropy(from_logits=True),\n",
        "    optimizer=keras.optimizers.Adam(lr=0.001),\n",
        "    metrics=[\"accuracy\"],\n",
        ")\n",
        "\n",
        "model.fit(x_train,y_train,batch_size=32, epochs=5, verbose=2)\n",
        "model.evaluate(x_test,y_test,batch_size=32,verbose=2)"
      ],
      "metadata": {
        "colab": {
          "base_uri": "https://localhost:8080/"
        },
        "id": "5Jjp5BH_206B",
        "outputId": "db2c546c-6694-4f63-ff69-2247aa31f36d"
      },
      "execution_count": null,
      "outputs": [
        {
          "output_type": "stream",
          "name": "stdout",
          "text": [
            "Model: \"sequential_1\"\n",
            "_________________________________________________________________\n",
            " Layer (type)                Output Shape              Param #   \n",
            "=================================================================\n",
            " dense_3 (Dense)             (None, 512)               401920    \n",
            "                                                                 \n",
            " dense_4 (Dense)             (None, 256)               131328    \n",
            "                                                                 \n",
            "=================================================================\n",
            "Total params: 533248 (2.03 MB)\n",
            "Trainable params: 533248 (2.03 MB)\n",
            "Non-trainable params: 0 (0.00 Byte)\n",
            "_________________________________________________________________\n",
            "None\n",
            "Model: \"sequential_1\"\n",
            "_________________________________________________________________\n",
            " Layer (type)                Output Shape              Param #   \n",
            "=================================================================\n",
            " dense_3 (Dense)             (None, 512)               401920    \n",
            "                                                                 \n",
            " dense_4 (Dense)             (None, 256)               131328    \n",
            "                                                                 \n",
            " dense_5 (Dense)             (None, 128)               32896     \n",
            "                                                                 \n",
            " dense_6 (Dense)             (None, 64)                8256      \n",
            "                                                                 \n",
            " dense_7 (Dense)             (None, 10)                650       \n",
            "                                                                 \n",
            "=================================================================\n",
            "Total params: 575050 (2.19 MB)\n",
            "Trainable params: 575050 (2.19 MB)\n",
            "Non-trainable params: 0 (0.00 Byte)\n",
            "_________________________________________________________________\n"
          ]
        },
        {
          "output_type": "stream",
          "name": "stderr",
          "text": [
            "WARNING:absl:`lr` is deprecated in Keras optimizer, please use `learning_rate` or use the legacy optimizer, e.g.,tf.keras.optimizers.legacy.Adam.\n"
          ]
        },
        {
          "output_type": "stream",
          "name": "stdout",
          "text": [
            "None\n",
            "Epoch 1/5\n",
            "1875/1875 - 15s - loss: 0.6457 - accuracy: 0.7861 - 15s/epoch - 8ms/step\n",
            "Epoch 2/5\n",
            "1875/1875 - 14s - loss: 0.2738 - accuracy: 0.9173 - 14s/epoch - 7ms/step\n",
            "Epoch 3/5\n",
            "1875/1875 - 14s - loss: 0.1752 - accuracy: 0.9467 - 14s/epoch - 7ms/step\n",
            "Epoch 4/5\n",
            "1875/1875 - 15s - loss: 0.1351 - accuracy: 0.9583 - 15s/epoch - 8ms/step\n",
            "Epoch 5/5\n",
            "1875/1875 - 14s - loss: 0.1111 - accuracy: 0.9663 - 14s/epoch - 7ms/step\n",
            "313/313 - 1s - loss: 0.1347 - accuracy: 0.9580 - 832ms/epoch - 3ms/step\n"
          ]
        },
        {
          "output_type": "execute_result",
          "data": {
            "text/plain": [
              "[0.13469794392585754, 0.9580000042915344]"
            ]
          },
          "metadata": {},
          "execution_count": 40
        }
      ]
    },
    {
      "cell_type": "code",
      "source": [
        "#Functional Api (multiple inputs, multiple outputs). More flexible\n",
        "\n",
        "inputs = keras.Input(shape=(28*28))\n",
        "x = layers.Dense(512, activation='relu', name='1st_layer')(inputs)\n",
        "x = layers.Dense(256, activation='relu', name='2nd_layer')(x)\n",
        "output = layers.Dense(10, activation='softmax')(x)\n",
        "model = keras.Model(inputs=inputs, outputs=output)\n",
        "\n",
        "print(model.summary())\n",
        "\n",
        "model.compile(\n",
        "    loss=keras.losses.SparseCategoricalCrossentropy(from_logits=False),\n",
        "    optimizer=keras.optimizers.Adam(lr=0.001),\n",
        "    metrics=[\"accuracy\"],\n",
        ")\n",
        "\n",
        "model.fit(x_train,y_train,batch_size=32, epochs=5, verbose=2)\n",
        "model.evaluate(x_test,y_test,batch_size=32,verbose=2)"
      ],
      "metadata": {
        "colab": {
          "base_uri": "https://localhost:8080/"
        },
        "id": "JogrgnuO5b5M",
        "outputId": "be1823be-8f1c-493c-cf93-b54c6d005e5d"
      },
      "execution_count": null,
      "outputs": [
        {
          "output_type": "stream",
          "name": "stdout",
          "text": [
            "Model: \"model_2\"\n",
            "_________________________________________________________________\n",
            " Layer (type)                Output Shape              Param #   \n",
            "=================================================================\n",
            " input_6 (InputLayer)        [(None, 784)]             0         \n",
            "                                                                 \n",
            " 1st_layer (Dense)           (None, 512)               401920    \n",
            "                                                                 \n",
            " 2nd_layer (Dense)           (None, 256)               131328    \n",
            "                                                                 \n",
            " dense_14 (Dense)            (None, 10)                2570      \n",
            "                                                                 \n",
            "=================================================================\n",
            "Total params: 535818 (2.04 MB)\n",
            "Trainable params: 535818 (2.04 MB)\n",
            "Non-trainable params: 0 (0.00 Byte)\n",
            "_________________________________________________________________\n"
          ]
        },
        {
          "output_type": "stream",
          "name": "stderr",
          "text": [
            "WARNING:absl:`lr` is deprecated in Keras optimizer, please use `learning_rate` or use the legacy optimizer, e.g.,tf.keras.optimizers.legacy.Adam.\n"
          ]
        },
        {
          "output_type": "stream",
          "name": "stdout",
          "text": [
            "None\n",
            "Epoch 1/5\n",
            "1875/1875 - 13s - loss: 0.5933 - accuracy: 0.8188 - 13s/epoch - 7ms/step\n",
            "Epoch 2/5\n",
            "1875/1875 - 12s - loss: 0.2936 - accuracy: 0.9136 - 12s/epoch - 6ms/step\n",
            "Epoch 3/5\n",
            "1875/1875 - 12s - loss: 0.2247 - accuracy: 0.9340 - 12s/epoch - 7ms/step\n",
            "Epoch 4/5\n",
            "1875/1875 - 12s - loss: 0.1763 - accuracy: 0.9475 - 12s/epoch - 6ms/step\n",
            "Epoch 5/5\n",
            "1875/1875 - 12s - loss: 0.1438 - accuracy: 0.9569 - 12s/epoch - 7ms/step\n",
            "313/313 - 1s - loss: 0.1321 - accuracy: 0.9602 - 765ms/epoch - 2ms/step\n"
          ]
        },
        {
          "output_type": "execute_result",
          "data": {
            "text/plain": [
              "[0.13209010660648346, 0.9602000117301941]"
            ]
          },
          "metadata": {},
          "execution_count": 44
        }
      ]
    },
    {
      "cell_type": "code",
      "source": [
        "#Feature Extraction\n",
        "\n",
        "model = keras.Sequential()\n",
        "model.add(layers.Input(shape=(28*28)))\n",
        "model.add(layers.Dense(512, activation='relu'))\n",
        "model.add(layers.Dense(256, activation='relu'))\n",
        "model.add(layers.Dense(10, activation='softmax'))\n",
        "\n",
        "model = keras.Model(inputs=model.inputs, outputs=[model.layers[-2].output])\n",
        "feature=model.predict(x_train)\n",
        "print(feature.shape)"
      ],
      "metadata": {
        "colab": {
          "base_uri": "https://localhost:8080/"
        },
        "id": "JeTvEw4q-Kxp",
        "outputId": "bc604580-6d71-40af-c930-ba68296f69ee"
      },
      "execution_count": null,
      "outputs": [
        {
          "output_type": "stream",
          "name": "stdout",
          "text": [
            "1875/1875 [==============================] - 6s 3ms/step\n",
            "(60000, 256)\n"
          ]
        }
      ]
    },
    {
      "cell_type": "code",
      "source": [
        "#Feature Extraction\n",
        "\n",
        "model = keras.Sequential()\n",
        "model.add(layers.Input(shape=(28*28)))\n",
        "model.add(layers.Dense(512, activation='relu'))\n",
        "model.add(layers.Dense(256, activation='relu', name='intrestedLayer'))\n",
        "model.add(layers.Dense(10, activation='softmax'))\n",
        "\n",
        "model = keras.Model(inputs=model.inputs, outputs=[model.get_layer('intrestedLayer').output])\n",
        "feature=model.predict(x_train)\n",
        "print(feature.shape)"
      ],
      "metadata": {
        "colab": {
          "base_uri": "https://localhost:8080/"
        },
        "id": "pxisGlF9_ez1",
        "outputId": "33efb6d1-4a36-49cf-c4bc-589d35218028"
      },
      "execution_count": null,
      "outputs": [
        {
          "output_type": "stream",
          "name": "stdout",
          "text": [
            "1875/1875 [==============================] - 5s 3ms/step\n",
            "(60000, 256)\n"
          ]
        }
      ]
    },
    {
      "cell_type": "code",
      "source": [
        "#Feature Extraction\n",
        "\n",
        "model = keras.Sequential()\n",
        "model.add(layers.Input(shape=(28*28)))\n",
        "model.add(layers.Dense(512, activation='relu'))\n",
        "model.add(layers.Dense(256, activation='relu'))\n",
        "model.add(layers.Dense(10, activation='softmax'))\n",
        "\n",
        "model = keras.Model(inputs=model.inputs, outputs=[layer.output for layer in model.layers])\n",
        "features=model.predict(x_train)\n",
        "for feature in features:\n",
        "  print(feature.shape)"
      ],
      "metadata": {
        "colab": {
          "base_uri": "https://localhost:8080/"
        },
        "id": "4siNfMW-_7iZ",
        "outputId": "52f2f00f-504e-47a8-b772-42bd665f1ac3"
      },
      "execution_count": null,
      "outputs": [
        {
          "output_type": "stream",
          "name": "stdout",
          "text": [
            "1875/1875 [==============================] - 7s 4ms/step\n",
            "(60000, 512)\n",
            "(60000, 256)\n",
            "(60000, 10)\n"
          ]
        }
      ]
    }
  ]
}